{
 "cells": [
  {
   "cell_type": "code",
   "execution_count": 1,
   "id": "2a408449",
   "metadata": {},
   "outputs": [
    {
     "name": "stderr",
     "output_type": "stream",
     "text": [
      "/opt/anaconda3/envs/twitter_analysis/lib/python3.9/site-packages/tqdm/auto.py:22: TqdmWarning: IProgress not found. Please update jupyter and ipywidgets. See https://ipywidgets.readthedocs.io/en/stable/user_install.html\n",
      "  from .autonotebook import tqdm as notebook_tqdm\n",
      "Downloading: 100%|█| 970/\n"
     ]
    }
   ],
   "source": [
    "import snscrape.modules.twitter as sntwitter\n",
    "import pandas as pd\n",
    "import re\n",
    "import numpy as np\n",
    "import hvplot.pandas\n",
    "from transformers import pipeline\n",
    "\n",
    "sentiment_pipeline = pipeline(model='cardiffnlp/twitter-roberta-base-sentiment')\n"
   ]
  },
  {
   "cell_type": "code",
   "execution_count": 2,
   "id": "28c82f20",
   "metadata": {},
   "outputs": [],
   "source": [
    "def tweets(n_tweets, search_term, start_date, end_date):\n",
    "    \"\"\"\n",
    "    get a dataframe of tweets by search term\n",
    "    \n",
    "    ref: https://betterprogramming.pub/how-to-scrape-tweets-with-snscrape-90124ed006af\n",
    "    \"\"\"\n",
    "    # Creating list to append tweet data to\n",
    "    tweets_list2 = []\n",
    "\n",
    "    # Using TwitterSearchScraper to scrape data and append tweets to list\n",
    "    for i,tweet in enumerate(sntwitter.TwitterSearchScraper(f'{search_term} since:{start_date} until:{end_date}').get_items()):\n",
    "        if i>n_tweets:\n",
    "            break\n",
    "        tweets_list2.append([tweet.date, tweet.id, tweet.content])\n",
    "\n",
    "    # Creating a dataframe from the tweets list above\n",
    "    tweets_df2 = pd.DataFrame(tweets_list2, columns=['Datetime', 'Tweet Id', 'Text'])\n",
    "    return tweets_df2"
   ]
  },
  {
   "cell_type": "markdown",
   "id": "bd7d24ff",
   "metadata": {},
   "source": [
    "# Get tweets"
   ]
  },
  {
   "cell_type": "code",
   "execution_count": 3,
   "id": "584d4227",
   "metadata": {},
   "outputs": [],
   "source": [
    "df_camille df_camille = tweets(10000, 'camille vasquez', '2022-05-18', '2022-05-20')\n",
    "df_johnny = tweets(10000, 'johnny depp', '2022-05-18', '2022-05-20')\n",
    "df_amber = tweets(10000, 'amber heard', '2022-05-18', '2022-05-20')\n",
    "df_shannon = tweets(10000, 'shannon curry', '2022-05-01', '2022-05-20')= pd.read_csv('df_camille_2day.csv', index_col=0)\n"
   ]
  },
  {
   "cell_type": "code",
   "execution_count": 4,
   "id": "680956a1",
   "metadata": {},
   "outputs": [
    {
     "data": {
      "text/plain": [
       "(8772, 10001, 10001, 1985)"
      ]
     },
     "execution_count": 4,
     "metadata": {},
     "output_type": "execute_result"
    }
   ],
   "source": [
    "len(df_camille), len(df_johnny), len(df_amber), len(df_shannon)"
   ]
  },
  {
   "cell_type": "code",
   "execution_count": 5,
   "id": "1f3e0609",
   "metadata": {},
   "outputs": [
    {
     "data": {
      "text/html": [
       "<div>\n",
       "<style scoped>\n",
       "    .dataframe tbody tr th:only-of-type {\n",
       "        vertical-align: middle;\n",
       "    }\n",
       "\n",
       "    .dataframe tbody tr th {\n",
       "        vertical-align: top;\n",
       "    }\n",
       "\n",
       "    .dataframe thead th {\n",
       "        text-align: right;\n",
       "    }\n",
       "</style>\n",
       "<table border=\"1\" class=\"dataframe\">\n",
       "  <thead>\n",
       "    <tr style=\"text-align: right;\">\n",
       "      <th></th>\n",
       "      <th>Datetime</th>\n",
       "      <th>Tweet Id</th>\n",
       "      <th>Text</th>\n",
       "    </tr>\n",
       "  </thead>\n",
       "  <tbody>\n",
       "    <tr>\n",
       "      <th>0</th>\n",
       "      <td>2022-05-19 23:59:34+00:00</td>\n",
       "      <td>1527438848392847362</td>\n",
       "      <td>What IS the truth about the relationship betwe...</td>\n",
       "    </tr>\n",
       "    <tr>\n",
       "      <th>1</th>\n",
       "      <td>2022-05-19 23:58:47+00:00</td>\n",
       "      <td>1527438648945303566</td>\n",
       "      <td>Camille Vasquez ENRAGED by Elaine during Amber...</td>\n",
       "    </tr>\n",
       "    <tr>\n",
       "      <th>2</th>\n",
       "      <td>2022-05-19 23:58:14+00:00</td>\n",
       "      <td>1527438512995565568</td>\n",
       "      <td>ginisa ni camille vásquez si amber heard eh HW...</td>\n",
       "    </tr>\n",
       "    <tr>\n",
       "      <th>3</th>\n",
       "      <td>2022-05-19 23:56:21+00:00</td>\n",
       "      <td>1527438037256396807</td>\n",
       "      <td>Camille Vasquez: 5 Things To Know About Johnny...</td>\n",
       "    </tr>\n",
       "    <tr>\n",
       "      <th>4</th>\n",
       "      <td>2022-05-19 23:55:49+00:00</td>\n",
       "      <td>1527437905450262528</td>\n",
       "      <td>@RkFutbol He stays at PSG, he is gonna be so h...</td>\n",
       "    </tr>\n",
       "  </tbody>\n",
       "</table>\n",
       "</div>"
      ],
      "text/plain": [
       "                    Datetime             Tweet Id  \\\n",
       "0  2022-05-19 23:59:34+00:00  1527438848392847362   \n",
       "1  2022-05-19 23:58:47+00:00  1527438648945303566   \n",
       "2  2022-05-19 23:58:14+00:00  1527438512995565568   \n",
       "3  2022-05-19 23:56:21+00:00  1527438037256396807   \n",
       "4  2022-05-19 23:55:49+00:00  1527437905450262528   \n",
       "\n",
       "                                                Text  \n",
       "0  What IS the truth about the relationship betwe...  \n",
       "1  Camille Vasquez ENRAGED by Elaine during Amber...  \n",
       "2  ginisa ni camille vásquez si amber heard eh HW...  \n",
       "3  Camille Vasquez: 5 Things To Know About Johnny...  \n",
       "4  @RkFutbol He stays at PSG, he is gonna be so h...  "
      ]
     },
     "execution_count": 5,
     "metadata": {},
     "output_type": "execute_result"
    }
   ],
   "source": [
    "df_camille.head()"
   ]
  },
  {
   "cell_type": "markdown",
   "id": "b048e893",
   "metadata": {},
   "source": [
    "# Let's start with one dataframe"
   ]
  },
  {
   "cell_type": "code",
   "execution_count": 6,
   "id": "cc75405c",
   "metadata": {},
   "outputs": [],
   "source": [
    "df = df_camille"
   ]
  },
  {
   "cell_type": "code",
   "execution_count": 9,
   "id": "3626f244",
   "metadata": {},
   "outputs": [],
   "source": [
    "# DATA CLEANING \n",
    "# Make everything lower case\n",
    "df = df.assign(Text=lambda x: x['Text'].str.lower())"
   ]
  },
  {
   "cell_type": "code",
   "execution_count": 11,
   "id": "010f266f",
   "metadata": {},
   "outputs": [],
   "source": [
    "# Remove the rows that mentioned the other three people.\n",
    "df = df.query('~Text.str.contains(\"amber|heard|johnny|depp|shannon|curry\")')"
   ]
  },
  {
   "cell_type": "code",
   "execution_count": 16,
   "id": "37330f52",
   "metadata": {},
   "outputs": [],
   "source": [
    "# Keep the rows that mention name \n",
    "df = df.query('Text.str.contains(\"camille|vasquez\")')"
   ]
  },
  {
   "cell_type": "code",
   "execution_count": 26,
   "id": "ca119edd",
   "metadata": {},
   "outputs": [],
   "source": [
    "# Remove all the URLs\n",
    "df = df.assign(Text=lambda x:x['Text'].apply(lambda s: re.sub(r'\\w+:\\/{2}[\\d\\w-]+(\\.[\\d\\w-]+)*(?:(?:\\/[^\\s/]*))*', '', s)))"
   ]
  },
  {
   "cell_type": "code",
   "execution_count": 36,
   "id": "22503f7c",
   "metadata": {},
   "outputs": [],
   "source": [
    "# SENTIMENT ANALYSIS \n",
    "df = df.assign(sentiment=lambda x: x['Text'].apply(lambda s: sentiment_pipeline(s)))"
   ]
  },
  {
   "cell_type": "code",
   "execution_count": 38,
   "id": "7d5162ca",
   "metadata": {},
   "outputs": [],
   "source": [
    "# Get the sentiment label\n",
    "df = df.assign(sentiment_label=lambda x: x['sentiment'].apply(lambda s: s[0]['label']))"
   ]
  },
  {
   "cell_type": "code",
   "execution_count": 40,
   "id": "38554f21",
   "metadata": {},
   "outputs": [],
   "source": [
    "# Get the sentiment score\n",
    "df = df.assign(sentiment_score=lambda x: x['sentiment'].apply(lambda s: s[0]['score']))"
   ]
  },
  {
   "cell_type": "code",
   "execution_count": 42,
   "id": "accafb1c",
   "metadata": {},
   "outputs": [],
   "source": [
    "# Recode the sentiment labels\n",
    "df = df.assign(\n",
    "    sentiment_label=np.where(\n",
    "        df['sentiment_label']=='LABEL_0', 'NEGATIVE', np.where(\n",
    "            df['sentiment_label']=='LABEL_2', 'POSITIVE', 'NEUTRAL'\n",
    "        )\n",
    "    )\n",
    ")"
   ]
  },
  {
   "cell_type": "markdown",
   "id": "79fabee3",
   "metadata": {},
   "source": [
    "# Data processing for all four data frames"
   ]
  },
  {
   "cell_type": "code",
   "execution_count": 48,
   "id": "992e1234",
   "metadata": {},
   "outputs": [],
   "source": [
    "df_dict = {\n",
    "    'camille vasquez': df_camille,\n",
    "    'johnny depp': df_johnny,\n",
    "    'amber heard': df_amber,\n",
    "    'shannon curry': df_shannon\n",
    "}"
   ]
  },
  {
   "cell_type": "code",
   "execution_count": 49,
   "id": "580f4921",
   "metadata": {},
   "outputs": [],
   "source": [
    "remove_rows = {\n",
    "    'camille vasquez': 'amber|heard|johnny|depp|shannon|curry',\n",
    "    'johnny depp': 'amber|heard|camille|vasquez|shannon|curry',\n",
    "    'amber heard': 'johnny|depp|camille|vasquez|shannon|curry',\n",
    "    'shannon curry': 'johnny|depp|camille|vasquez|amber|heard',\n",
    "}"
   ]
  },
  {
   "cell_type": "code",
   "execution_count": 50,
   "id": "29db09a0",
   "metadata": {},
   "outputs": [],
   "source": [
    "keep_rows = {\n",
    "    'camille vasquez': 'camille|vasquez',\n",
    "    'johnny depp': 'johnny|depp',\n",
    "    'amber heard': 'amber|heard',\n",
    "    'shannon curry': 'shannon|curry',\n",
    "}"
   ]
  },
  {
   "cell_type": "code",
   "execution_count": 51,
   "id": "ffc2b13d",
   "metadata": {},
   "outputs": [
    {
     "name": "stdout",
     "output_type": "stream",
     "text": [
      "camille vasquez\n",
      "# Tweets:  2517\n",
      "johnny depp\n",
      "# Tweets:  4356\n",
      "amber heard\n",
      "# Tweets:  4011\n",
      "shannon curry\n",
      "# Tweets:  712\n"
     ]
    }
   ],
   "source": [
    "# DATA CLEANING \n",
    "for key, df in df_dict.items():\n",
    "    print(key)\n",
    "    df_dict[key] = (\n",
    "        df\n",
    "        # Make everything lower case\n",
    "        .assign(Text=lambda x: x['Text'].str.lower())\n",
    "        # Remove the rows that mentioned the other three people.\n",
    "        .query(f'~Text.str.contains(\"{remove_rows[key]}\")')\n",
    "        # Keep the rows that mention name \n",
    "        .query(f'Text.str.contains(\"{keep_rows[key]}\")')\n",
    "        # Remove all the URLs\n",
    "        .assign(Text=lambda x:x['Text'].apply(lambda s: re.sub(r'\\w+:\\/{2}[\\d\\w-]+(\\.[\\d\\w-]+)*(?:(?:\\/[^\\s/]*))*', '', s)))\n",
    "    )\n",
    "    print(\"# Tweets: \", len(df_dict[key]))"
   ]
  },
  {
   "cell_type": "code",
   "execution_count": 52,
   "id": "58eedf0e",
   "metadata": {},
   "outputs": [],
   "source": [
    "# SENTIMENT ANALYSIS\n",
    "for key, df in df_dict.items():\n",
    "    df_dict[key] = (\n",
    "        df_dict[key]\n",
    "        # Apply the pre-trained sentiment model\n",
    "        .assign(sentiment=lambda x: x['Text'].apply(lambda s: sentiment_pipeline(s)))\n",
    "        # Get the sentiment label\n",
    "        .assign(sentiment_label=lambda x: x['sentiment'].apply(lambda s: s[0]['label']))\n",
    "        # Get the sentiment score\n",
    "        .assign(sentiment_score=lambda x: x['sentiment'].apply(lambda s: s[0]['score']))\n",
    "    )\n",
    "    # Recode the sentiment labels\n",
    "    df_dict[key] = df_dict[key].assign(\n",
    "        sentiment_label=np.where(\n",
    "            df_dict[key]['sentiment_label']=='LABEL_0', 'NEGATIVE', np.where(\n",
    "                df_dict[key]['sentiment_label']=='LABEL_2', 'POSITIVE', 'NEUTRAL'\n",
    "            )\n",
    "        )\n",
    "    )\n"
   ]
  },
  {
   "cell_type": "code",
   "execution_count": 61,
   "id": "104badee",
   "metadata": {},
   "outputs": [
    {
     "data": {
      "text/html": [
       "<div>\n",
       "<style scoped>\n",
       "    .dataframe tbody tr th:only-of-type {\n",
       "        vertical-align: middle;\n",
       "    }\n",
       "\n",
       "    .dataframe tbody tr th {\n",
       "        vertical-align: top;\n",
       "    }\n",
       "\n",
       "    .dataframe thead th {\n",
       "        text-align: right;\n",
       "    }\n",
       "</style>\n",
       "<table border=\"1\" class=\"dataframe\">\n",
       "  <thead>\n",
       "    <tr style=\"text-align: right;\">\n",
       "      <th></th>\n",
       "      <th>sentiment_label</th>\n",
       "      <th>sentiment_label</th>\n",
       "      <th>sentiment_label</th>\n",
       "      <th>sentiment_label</th>\n",
       "    </tr>\n",
       "  </thead>\n",
       "  <tbody>\n",
       "    <tr>\n",
       "      <th>NEUTRAL</th>\n",
       "      <td>908</td>\n",
       "      <td>668</td>\n",
       "      <td>448</td>\n",
       "      <td>164</td>\n",
       "    </tr>\n",
       "    <tr>\n",
       "      <th>NEGATIVE</th>\n",
       "      <td>577</td>\n",
       "      <td>897</td>\n",
       "      <td>130</td>\n",
       "      <td>62</td>\n",
       "    </tr>\n",
       "    <tr>\n",
       "      <th>POSITIVE</th>\n",
       "      <td>351</td>\n",
       "      <td>93</td>\n",
       "      <td>664</td>\n",
       "      <td>144</td>\n",
       "    </tr>\n",
       "  </tbody>\n",
       "</table>\n",
       "</div>"
      ],
      "text/plain": [
       "          sentiment_label  sentiment_label  sentiment_label  sentiment_label\n",
       "NEUTRAL               908              668              448              164\n",
       "NEGATIVE              577              897              130               62\n",
       "POSITIVE              351               93              664              144"
      ]
     },
     "execution_count": 61,
     "metadata": {},
     "output_type": "execute_result"
    }
   ],
   "source": [
    "dfc = pd.concat([\n",
    "    df_dict['johnny depp'].query('sentiment_score>0.8')['sentiment_label'].value_counts(),\n",
    "    df_dict['amber heard'].query('sentiment_score>0.8')['sentiment_label'].value_counts(),\n",
    "    df_dict['camille vasquez'].query('sentiment_score>0.8')['sentiment_label'].value_counts(),\n",
    "    df_dict['shannon curry'].query('sentiment_score>0.8')['sentiment_label'].value_counts()\n",
    "], axis=1)\n",
    "dfc"
   ]
  },
  {
   "cell_type": "code",
   "execution_count": 62,
   "id": "7297c4c2",
   "metadata": {},
   "outputs": [],
   "source": [
    "dfc.columns = ['Johnny Depp', 'Amber Heard', 'Camille Vasquez', 'Shannon Curry']"
   ]
  },
  {
   "cell_type": "code",
   "execution_count": 63,
   "id": "307bf168",
   "metadata": {},
   "outputs": [
    {
     "data": {
      "text/html": [
       "<div>\n",
       "<style scoped>\n",
       "    .dataframe tbody tr th:only-of-type {\n",
       "        vertical-align: middle;\n",
       "    }\n",
       "\n",
       "    .dataframe tbody tr th {\n",
       "        vertical-align: top;\n",
       "    }\n",
       "\n",
       "    .dataframe thead th {\n",
       "        text-align: right;\n",
       "    }\n",
       "</style>\n",
       "<table border=\"1\" class=\"dataframe\">\n",
       "  <thead>\n",
       "    <tr style=\"text-align: right;\">\n",
       "      <th></th>\n",
       "      <th>Johnny Depp</th>\n",
       "      <th>Amber Heard</th>\n",
       "      <th>Camille Vasquez</th>\n",
       "      <th>Shannon Curry</th>\n",
       "    </tr>\n",
       "  </thead>\n",
       "  <tbody>\n",
       "    <tr>\n",
       "      <th>NEUTRAL</th>\n",
       "      <td>908</td>\n",
       "      <td>668</td>\n",
       "      <td>448</td>\n",
       "      <td>164</td>\n",
       "    </tr>\n",
       "    <tr>\n",
       "      <th>NEGATIVE</th>\n",
       "      <td>577</td>\n",
       "      <td>897</td>\n",
       "      <td>130</td>\n",
       "      <td>62</td>\n",
       "    </tr>\n",
       "    <tr>\n",
       "      <th>POSITIVE</th>\n",
       "      <td>351</td>\n",
       "      <td>93</td>\n",
       "      <td>664</td>\n",
       "      <td>144</td>\n",
       "    </tr>\n",
       "  </tbody>\n",
       "</table>\n",
       "</div>"
      ],
      "text/plain": [
       "          Johnny Depp  Amber Heard  Camille Vasquez  Shannon Curry\n",
       "NEUTRAL           908          668              448            164\n",
       "NEGATIVE          577          897              130             62\n",
       "POSITIVE          351           93              664            144"
      ]
     },
     "execution_count": 63,
     "metadata": {},
     "output_type": "execute_result"
    }
   ],
   "source": [
    "dfc"
   ]
  },
  {
   "cell_type": "code",
   "execution_count": 65,
   "id": "d099afe4",
   "metadata": {},
   "outputs": [],
   "source": [
    "dfp = dfc/dfc.sum()"
   ]
  },
  {
   "cell_type": "code",
   "execution_count": 74,
   "id": "7122e60d",
   "metadata": {},
   "outputs": [
    {
     "data": {
      "text/html": [
       "<div>\n",
       "<style scoped>\n",
       "    .dataframe tbody tr th:only-of-type {\n",
       "        vertical-align: middle;\n",
       "    }\n",
       "\n",
       "    .dataframe tbody tr th {\n",
       "        vertical-align: top;\n",
       "    }\n",
       "\n",
       "    .dataframe thead th {\n",
       "        text-align: right;\n",
       "    }\n",
       "</style>\n",
       "<table border=\"1\" class=\"dataframe\">\n",
       "  <thead>\n",
       "    <tr style=\"text-align: right;\">\n",
       "      <th></th>\n",
       "      <th>NEUTRAL</th>\n",
       "      <th>NEGATIVE</th>\n",
       "      <th>POSITIVE</th>\n",
       "    </tr>\n",
       "  </thead>\n",
       "  <tbody>\n",
       "    <tr>\n",
       "      <th>Johnny Depp</th>\n",
       "      <td>0.494553</td>\n",
       "      <td>0.314270</td>\n",
       "      <td>0.191176</td>\n",
       "    </tr>\n",
       "    <tr>\n",
       "      <th>Amber Heard</th>\n",
       "      <td>0.402895</td>\n",
       "      <td>0.541013</td>\n",
       "      <td>0.056092</td>\n",
       "    </tr>\n",
       "    <tr>\n",
       "      <th>Camille Vasquez</th>\n",
       "      <td>0.360709</td>\n",
       "      <td>0.104670</td>\n",
       "      <td>0.534622</td>\n",
       "    </tr>\n",
       "    <tr>\n",
       "      <th>Shannon Curry</th>\n",
       "      <td>0.443243</td>\n",
       "      <td>0.167568</td>\n",
       "      <td>0.389189</td>\n",
       "    </tr>\n",
       "  </tbody>\n",
       "</table>\n",
       "</div>"
      ],
      "text/plain": [
       "                  NEUTRAL  NEGATIVE  POSITIVE\n",
       "Johnny Depp      0.494553  0.314270  0.191176\n",
       "Amber Heard      0.402895  0.541013  0.056092\n",
       "Camille Vasquez  0.360709  0.104670  0.534622\n",
       "Shannon Curry    0.443243  0.167568  0.389189"
      ]
     },
     "execution_count": 74,
     "metadata": {},
     "output_type": "execute_result"
    }
   ],
   "source": [
    "dfp.T"
   ]
  },
  {
   "cell_type": "code",
   "execution_count": 87,
   "id": "9c64e6fd",
   "metadata": {},
   "outputs": [
    {
     "data": {},
     "metadata": {},
     "output_type": "display_data"
    },
    {
     "data": {
      "application/vnd.holoviews_exec.v0+json": "",
      "text/html": [
       "<div id='1734'>\n",
       "  <div class=\"bk-root\" id=\"180e2795-f6da-4b6a-a530-e44e02689b25\" data-root-id=\"1734\"></div>\n",
       "</div>\n",
       "<script type=\"application/javascript\">(function(root) {\n",
       "  function embed_document(root) {\n",
       "    var docs_json = {\"1ed0e4b3-2a7c-40b3-a183-e52bcc88bf77\":{\"defs\":[{\"extends\":null,\"module\":null,\"name\":\"ReactiveHTML1\",\"overrides\":[],\"properties\":[]},{\"extends\":null,\"module\":null,\"name\":\"FlexBox1\",\"overrides\":[],\"properties\":[{\"default\":\"flex-start\",\"kind\":null,\"name\":\"align_content\"},{\"default\":\"flex-start\",\"kind\":null,\"name\":\"align_items\"},{\"default\":\"row\",\"kind\":null,\"name\":\"flex_direction\"},{\"default\":\"wrap\",\"kind\":null,\"name\":\"flex_wrap\"},{\"default\":\"flex-start\",\"kind\":null,\"name\":\"justify_content\"}]},{\"extends\":null,\"module\":null,\"name\":\"GridStack1\",\"overrides\":[],\"properties\":[{\"default\":\"warn\",\"kind\":null,\"name\":\"mode\"},{\"default\":null,\"kind\":null,\"name\":\"ncols\"},{\"default\":null,\"kind\":null,\"name\":\"nrows\"},{\"default\":true,\"kind\":null,\"name\":\"allow_resize\"},{\"default\":true,\"kind\":null,\"name\":\"allow_drag\"},{\"default\":[],\"kind\":null,\"name\":\"state\"}]},{\"extends\":null,\"module\":null,\"name\":\"click1\",\"overrides\":[],\"properties\":[{\"default\":\"\",\"kind\":null,\"name\":\"terminal_output\"},{\"default\":\"\",\"kind\":null,\"name\":\"debug_name\"},{\"default\":0,\"kind\":null,\"name\":\"clears\"}]},{\"extends\":null,\"module\":null,\"name\":\"TemplateActions1\",\"overrides\":[],\"properties\":[{\"default\":0,\"kind\":null,\"name\":\"open_modal\"},{\"default\":0,\"kind\":null,\"name\":\"close_modal\"}]},{\"extends\":null,\"module\":null,\"name\":\"MaterialTemplateActions1\",\"overrides\":[],\"properties\":[{\"default\":0,\"kind\":null,\"name\":\"open_modal\"},{\"default\":0,\"kind\":null,\"name\":\"close_modal\"}]}],\"roots\":{\"references\":[{\"attributes\":{\"end\":0.5895054282267793,\"reset_end\":0.5895054282267793,\"reset_start\":0.0,\"tags\":[[[\"value\",\"value\",null]]]},\"id\":\"1737\",\"type\":\"Range1d\"},{\"attributes\":{},\"id\":\"1779\",\"type\":\"CategoricalTickFormatter\"},{\"attributes\":{},\"id\":\"1744\",\"type\":\"CategoricalScale\"},{\"attributes\":{},\"id\":\"1782\",\"type\":\"BasicTickFormatter\"},{\"attributes\":{},\"id\":\"1749\",\"type\":\"CategoricalTicker\"},{\"attributes\":{\"fill_color\":{\"field\":\"Variable\",\"transform\":{\"id\":\"1768\"}},\"hatch_color\":{\"field\":\"Variable\",\"transform\":{\"id\":\"1768\"}},\"top\":{\"field\":\"value\"},\"width\":{\"value\":0.8},\"x\":{\"field\":\"xoffsets\"}},\"id\":\"1772\",\"type\":\"VBar\"},{\"attributes\":{\"callback\":null,\"renderers\":[{\"id\":\"1775\"}],\"tags\":[\"hv_created\"],\"tooltips\":[[\"index\",\"@{index}\"],[\"Variable\",\"@{Variable}\"],[\"value\",\"@{value}\"]]},\"id\":\"1738\",\"type\":\"HoverTool\"},{\"attributes\":{\"factors\":[\"NEUTRAL\",\"NEGATIVE\",\"POSITIVE\"],\"palette\":[\"#ffcc5c\",\"#ff6f69\",\"#88d8b0\"]},\"id\":\"1768\",\"type\":\"CategoricalColorMapper\"},{\"attributes\":{\"overlay\":{\"id\":\"1760\"}},\"id\":\"1758\",\"type\":\"BoxZoomTool\"},{\"attributes\":{\"coordinates\":null,\"data_source\":{\"id\":\"1769\"},\"glyph\":{\"id\":\"1772\"},\"group\":null,\"hover_glyph\":null,\"muted_glyph\":{\"id\":\"1774\"},\"nonselection_glyph\":{\"id\":\"1773\"},\"selection_glyph\":{\"id\":\"1777\"},\"view\":{\"id\":\"1776\"}},\"id\":\"1775\",\"type\":\"GlyphRenderer\"},{\"attributes\":{},\"id\":\"1759\",\"type\":\"ResetTool\"},{\"attributes\":{},\"id\":\"1770\",\"type\":\"Selection\"},{\"attributes\":{},\"id\":\"1746\",\"type\":\"LinearScale\"},{\"attributes\":{},\"id\":\"1755\",\"type\":\"SaveTool\"},{\"attributes\":{\"axis\":{\"id\":\"1748\"},\"coordinates\":null,\"grid_line_color\":null,\"group\":null,\"ticker\":null},\"id\":\"1750\",\"type\":\"Grid\"},{\"attributes\":{\"coordinates\":null,\"group\":null,\"text\":\"Ratio of Tweets by Sentiment\",\"text_color\":\"black\",\"text_font_size\":\"12pt\"},\"id\":\"1740\",\"type\":\"Title\"},{\"attributes\":{},\"id\":\"1756\",\"type\":\"PanTool\"},{\"attributes\":{},\"id\":\"1757\",\"type\":\"WheelZoomTool\"},{\"attributes\":{\"margin\":[5,5,5,5],\"name\":\"HSpacer02834\",\"sizing_mode\":\"stretch_width\"},\"id\":\"1804\",\"type\":\"Spacer\"},{\"attributes\":{\"margin\":[5,5,5,5],\"name\":\"HSpacer02833\",\"sizing_mode\":\"stretch_width\"},\"id\":\"1735\",\"type\":\"Spacer\"},{\"attributes\":{\"below\":[{\"id\":\"1748\"}],\"center\":[{\"id\":\"1750\"},{\"id\":\"1754\"}],\"height\":300,\"left\":[{\"id\":\"1751\"}],\"margin\":[5,5,5,5],\"min_border_bottom\":10,\"min_border_left\":10,\"min_border_right\":10,\"min_border_top\":10,\"renderers\":[{\"id\":\"1775\"}],\"sizing_mode\":\"fixed\",\"title\":{\"id\":\"1740\"},\"toolbar\":{\"id\":\"1761\"},\"width\":700,\"x_range\":{\"id\":\"1736\"},\"x_scale\":{\"id\":\"1744\"},\"y_range\":{\"id\":\"1737\"},\"y_scale\":{\"id\":\"1746\"}},\"id\":\"1739\",\"subtype\":\"Figure\",\"type\":\"Plot\"},{\"attributes\":{},\"id\":\"1780\",\"type\":\"AllLabels\"},{\"attributes\":{\"tools\":[{\"id\":\"1738\"},{\"id\":\"1755\"},{\"id\":\"1756\"},{\"id\":\"1757\"},{\"id\":\"1758\"},{\"id\":\"1759\"}]},\"id\":\"1761\",\"type\":\"Toolbar\"},{\"attributes\":{\"children\":[{\"id\":\"1735\"},{\"id\":\"1739\"},{\"id\":\"1804\"}],\"margin\":[0,0,0,0],\"name\":\"Row02829\",\"tags\":[\"embedded\"]},\"id\":\"1734\",\"type\":\"Row\"},{\"attributes\":{\"fill_alpha\":{\"value\":0.1},\"fill_color\":{\"field\":\"Variable\",\"transform\":{\"id\":\"1768\"}},\"hatch_alpha\":{\"value\":0.1},\"hatch_color\":{\"field\":\"Variable\",\"transform\":{\"id\":\"1768\"}},\"line_alpha\":{\"value\":0.1},\"top\":{\"field\":\"value\"},\"width\":{\"value\":0.8},\"x\":{\"field\":\"xoffsets\"}},\"id\":\"1773\",\"type\":\"VBar\"},{\"attributes\":{\"bottom_units\":\"screen\",\"coordinates\":null,\"fill_alpha\":0.5,\"fill_color\":\"lightgrey\",\"group\":null,\"left_units\":\"screen\",\"level\":\"overlay\",\"line_alpha\":1.0,\"line_color\":\"black\",\"line_dash\":[4,4],\"line_width\":2,\"right_units\":\"screen\",\"syncable\":false,\"top_units\":\"screen\"},\"id\":\"1760\",\"type\":\"BoxAnnotation\"},{\"attributes\":{\"data\":{\"Variable\":[\"NEUTRAL\",\"NEUTRAL\",\"NEUTRAL\",\"NEUTRAL\",\"NEGATIVE\",\"NEGATIVE\",\"NEGATIVE\",\"NEGATIVE\",\"POSITIVE\",\"POSITIVE\",\"POSITIVE\",\"POSITIVE\"],\"index\":[\"Johnny Depp\",\"Amber Heard\",\"Camille Vasquez\",\"Shannon Curry\",\"Johnny Depp\",\"Amber Heard\",\"Camille Vasquez\",\"Shannon Curry\",\"Johnny Depp\",\"Amber Heard\",\"Camille Vasquez\",\"Shannon Curry\"],\"value\":{\"__ndarray__\":\"ihj8NMOm3z/0MndWCMnZP+Od5T/ZFdc/4sV56Bhe3D85q8eOAB3UP+uoIQ/7T+E/H868TqXLuj8uV0mj2nLFP3h4eHh4eMg/tdkrWgy4rD9LlzW2nhvhP4iO4cV56Ng/\",\"dtype\":\"float64\",\"order\":\"little\",\"shape\":[12]},\"xoffsets\":[[\"Johnny Depp\",\"NEUTRAL\"],[\"Amber Heard\",\"NEUTRAL\"],[\"Camille Vasquez\",\"NEUTRAL\"],[\"Shannon Curry\",\"NEUTRAL\"],[\"Johnny Depp\",\"NEGATIVE\"],[\"Amber Heard\",\"NEGATIVE\"],[\"Camille Vasquez\",\"NEGATIVE\"],[\"Shannon Curry\",\"NEGATIVE\"],[\"Johnny Depp\",\"POSITIVE\"],[\"Amber Heard\",\"POSITIVE\"],[\"Camille Vasquez\",\"POSITIVE\"],[\"Shannon Curry\",\"POSITIVE\"]]},\"selected\":{\"id\":\"1770\"},\"selection_policy\":{\"id\":\"1791\"}},\"id\":\"1769\",\"type\":\"ColumnDataSource\"},{\"attributes\":{},\"id\":\"1752\",\"type\":\"BasicTicker\"},{\"attributes\":{\"source\":{\"id\":\"1769\"}},\"id\":\"1776\",\"type\":\"CDSView\"},{\"attributes\":{\"axis_label\":\"\",\"coordinates\":null,\"formatter\":{\"id\":\"1782\"},\"group\":null,\"major_label_policy\":{\"id\":\"1783\"},\"ticker\":{\"id\":\"1752\"}},\"id\":\"1751\",\"type\":\"LinearAxis\"},{\"attributes\":{},\"id\":\"1783\",\"type\":\"AllLabels\"},{\"attributes\":{\"fill_alpha\":{\"value\":0.2},\"fill_color\":{\"field\":\"Variable\",\"transform\":{\"id\":\"1768\"}},\"hatch_alpha\":{\"value\":0.2},\"hatch_color\":{\"field\":\"Variable\",\"transform\":{\"id\":\"1768\"}},\"line_alpha\":{\"value\":0.2},\"top\":{\"field\":\"value\"},\"width\":{\"value\":0.8},\"x\":{\"field\":\"xoffsets\"}},\"id\":\"1774\",\"type\":\"VBar\"},{\"attributes\":{\"axis_label\":\"\",\"coordinates\":null,\"formatter\":{\"id\":\"1779\"},\"group\":null,\"major_label_orientation\":1.5707963267948966,\"major_label_policy\":{\"id\":\"1780\"},\"ticker\":{\"id\":\"1749\"}},\"id\":\"1748\",\"type\":\"CategoricalAxis\"},{\"attributes\":{\"axis\":{\"id\":\"1751\"},\"coordinates\":null,\"dimension\":1,\"grid_line_color\":null,\"group\":null,\"ticker\":null},\"id\":\"1754\",\"type\":\"Grid\"},{\"attributes\":{},\"id\":\"1791\",\"type\":\"UnionRenderers\"},{\"attributes\":{\"bottom\":{\"value\":0},\"fill_alpha\":{\"value\":1.0},\"fill_color\":{\"field\":\"Variable\",\"transform\":{\"id\":\"1768\"}},\"hatch_alpha\":{\"value\":1.0},\"hatch_color\":{\"field\":\"Variable\",\"transform\":{\"id\":\"1768\"}},\"hatch_scale\":{\"value\":12.0},\"hatch_weight\":{\"value\":1.0},\"line_alpha\":{\"value\":1.0},\"line_cap\":{\"value\":\"butt\"},\"line_color\":{\"value\":\"black\"},\"line_dash\":{\"value\":[]},\"line_dash_offset\":{\"value\":0},\"line_join\":{\"value\":\"bevel\"},\"line_width\":{\"value\":1},\"top\":{\"field\":\"value\"},\"width\":{\"value\":0.8},\"x\":{\"field\":\"xoffsets\"}},\"id\":\"1777\",\"type\":\"VBar\"},{\"attributes\":{\"factors\":[[\"Johnny Depp\",\"POSITIVE\"],[\"Johnny Depp\",\"NEGATIVE\"],[\"Johnny Depp\",\"NEUTRAL\"],[\"Amber Heard\",\"POSITIVE\"],[\"Amber Heard\",\"NEGATIVE\"],[\"Amber Heard\",\"NEUTRAL\"],[\"Camille Vasquez\",\"POSITIVE\"],[\"Camille Vasquez\",\"NEGATIVE\"],[\"Camille Vasquez\",\"NEUTRAL\"],[\"Shannon Curry\",\"POSITIVE\"],[\"Shannon Curry\",\"NEGATIVE\"],[\"Shannon Curry\",\"NEUTRAL\"]],\"tags\":[[[\"index\",\"index\",null],[\"Variable\",\"Variable\",null]]]},\"id\":\"1736\",\"type\":\"FactorRange\"}],\"root_ids\":[\"1734\"]},\"title\":\"Bokeh Application\",\"version\":\"2.4.3\"}};\n",
       "    var render_items = [{\"docid\":\"1ed0e4b3-2a7c-40b3-a183-e52bcc88bf77\",\"root_ids\":[\"1734\"],\"roots\":{\"1734\":\"180e2795-f6da-4b6a-a530-e44e02689b25\"}}];\n",
       "    root.Bokeh.embed.embed_items_notebook(docs_json, render_items);\n",
       "  }\n",
       "  if (root.Bokeh !== undefined && root.Bokeh.Panel !== undefined) {\n",
       "    embed_document(root);\n",
       "  } else {\n",
       "    var attempts = 0;\n",
       "    var timer = setInterval(function(root) {\n",
       "      if (root.Bokeh !== undefined && root.Bokeh.Panel !== undefined) {\n",
       "        clearInterval(timer);\n",
       "        embed_document(root);\n",
       "      } else if (document.readyState == \"complete\") {\n",
       "        attempts++;\n",
       "        if (attempts > 200) {\n",
       "          clearInterval(timer);\n",
       "          console.log(\"Bokeh: ERROR: Unable to run BokehJS code because BokehJS library is missing\");\n",
       "        }\n",
       "      }\n",
       "    }, 25, root)\n",
       "  }\n",
       "})(window);</script>"
      ],
      "text/plain": [
       ":Bars   [index,Variable]   (value)"
      ]
     },
     "execution_count": 87,
     "metadata": {
      "application/vnd.holoviews_exec.v0+json": {
       "id": "1734"
      }
     },
     "output_type": "execute_result"
    }
   ],
   "source": [
    "dfp.T.hvplot.bar(\n",
    "    rot=90,\n",
    "    title='Ratio of Tweets by Sentiment',\n",
    "    color=[\"#ffcc5c\", \"#ff6f69\", \"#88d8b0\"]\n",
    ")"
   ]
  },
  {
   "cell_type": "markdown",
   "id": "51ff1bf0",
   "metadata": {},
   "source": [
    "# N-gram analysis"
   ]
  },
  {
   "cell_type": "code",
   "execution_count": 78,
   "id": "7cd617dd",
   "metadata": {},
   "outputs": [],
   "source": [
    "df = df_dict['camille vasquez']"
   ]
  },
  {
   "cell_type": "code",
   "execution_count": 79,
   "id": "f35dac58",
   "metadata": {},
   "outputs": [],
   "source": [
    "from nltk.corpus import stopwords\n",
    "stoplist = stopwords.words('english')\n",
    "from sklearn.feature_extraction.text import CountVectorizer\n",
    "\n",
    "c_vec = CountVectorizer(stop_words=stoplist, ngram_range=(2,3))\n",
    "# matrix of ngrams\n",
    "ngrams = c_vec.fit_transform(df['Text'])\n",
    "# count frequency of ngrams\n",
    "count_values = ngrams.toarray().sum(axis=0)\n",
    "# list of ngrams\n",
    "vocab = c_vec.vocabulary_\n",
    "df_ngram = pd.DataFrame(sorted([(count_values[i],k) for k,i in vocab.items()], reverse=True)\n",
    "            ).rename(columns={0: 'frequency', 1:'bigram/trigram'})\n"
   ]
  },
  {
   "cell_type": "code",
   "execution_count": 81,
   "id": "fe5bcdac",
   "metadata": {},
   "outputs": [
    {
     "data": {
      "text/html": [
       "<div>\n",
       "<style scoped>\n",
       "    .dataframe tbody tr th:only-of-type {\n",
       "        vertical-align: middle;\n",
       "    }\n",
       "\n",
       "    .dataframe tbody tr th {\n",
       "        vertical-align: top;\n",
       "    }\n",
       "\n",
       "    .dataframe thead th {\n",
       "        text-align: right;\n",
       "    }\n",
       "</style>\n",
       "<table border=\"1\" class=\"dataframe\">\n",
       "  <thead>\n",
       "    <tr style=\"text-align: right;\">\n",
       "      <th></th>\n",
       "      <th>frequency</th>\n",
       "      <th>bigram/trigram</th>\n",
       "    </tr>\n",
       "  </thead>\n",
       "  <tbody>\n",
       "    <tr>\n",
       "      <th>0</th>\n",
       "      <td>2100</td>\n",
       "      <td>camille vasquez</td>\n",
       "    </tr>\n",
       "    <tr>\n",
       "      <th>1</th>\n",
       "      <td>104</td>\n",
       "      <td>camille vásquez</td>\n",
       "    </tr>\n",
       "    <tr>\n",
       "      <th>2</th>\n",
       "      <td>57</td>\n",
       "      <td>love camille vasquez</td>\n",
       "    </tr>\n",
       "    <tr>\n",
       "      <th>3</th>\n",
       "      <td>57</td>\n",
       "      <td>love camille</td>\n",
       "    </tr>\n",
       "    <tr>\n",
       "      <th>4</th>\n",
       "      <td>53</td>\n",
       "      <td>cross examination</td>\n",
       "    </tr>\n",
       "    <tr>\n",
       "      <th>5</th>\n",
       "      <td>36</td>\n",
       "      <td>like camille</td>\n",
       "    </tr>\n",
       "    <tr>\n",
       "      <th>6</th>\n",
       "      <td>33</td>\n",
       "      <td>want camille</td>\n",
       "    </tr>\n",
       "    <tr>\n",
       "      <th>7</th>\n",
       "      <td>31</td>\n",
       "      <td>want camille vasquez</td>\n",
       "    </tr>\n",
       "    <tr>\n",
       "      <th>8</th>\n",
       "      <td>31</td>\n",
       "      <td>gt gt</td>\n",
       "    </tr>\n",
       "    <tr>\n",
       "      <th>9</th>\n",
       "      <td>30</td>\n",
       "      <td>like camille vasquez</td>\n",
       "    </tr>\n",
       "  </tbody>\n",
       "</table>\n",
       "</div>"
      ],
      "text/plain": [
       "   frequency        bigram/trigram\n",
       "0       2100       camille vasquez\n",
       "1        104       camille vásquez\n",
       "2         57  love camille vasquez\n",
       "3         57          love camille\n",
       "4         53     cross examination\n",
       "5         36          like camille\n",
       "6         33          want camille\n",
       "7         31  want camille vasquez\n",
       "8         31                 gt gt\n",
       "9         30  like camille vasquez"
      ]
     },
     "execution_count": 81,
     "metadata": {},
     "output_type": "execute_result"
    }
   ],
   "source": [
    "df_ngram.head(10)"
   ]
  },
  {
   "cell_type": "markdown",
   "id": "3a9848d6",
   "metadata": {},
   "source": [
    "# Topic modeling "
   ]
  },
  {
   "cell_type": "code",
   "execution_count": 83,
   "id": "f67252fc",
   "metadata": {
    "scrolled": true
   },
   "outputs": [
    {
     "name": "stdout",
     "output_type": "stream",
     "text": [
      "Topic #0: camille vasquez, crush camille vasquez, crush camille, camille vasquez badass, vasquez badass\n",
      "Topic #1: love camille vasquez, love camille, think love camille, think love, camille vasquez\n",
      "Topic #2: camille vasquez queen, vasquez queen, camille vasquez, vasquez queen love, queen truly\n",
      "Topic #3: want camille, want camille vasquez, vasquez grow, camille vasquez grow, grow want\n",
      "Topic #4: vasquez tweet, camille vasquez tweet, vasquez tweet love, tweet love, camille vasquez\n",
      "\n"
     ]
    },
    {
     "name": "stderr",
     "output_type": "stream",
     "text": [
      "/opt/anaconda3/envs/twitter_analysis/lib/python3.9/site-packages/sklearn/decomposition/_nmf.py:1692: ConvergenceWarning: Maximum number of iterations 200 reached. Increase it to improve convergence.\n",
      "  warnings.warn(\n",
      "/opt/anaconda3/envs/twitter_analysis/lib/python3.9/site-packages/sklearn/utils/deprecation.py:87: FutureWarning: Function get_feature_names is deprecated; get_feature_names is deprecated in 1.0 and will be removed in 1.2. Please use get_feature_names_out instead.\n",
      "  warnings.warn(msg, category=FutureWarning)\n"
     ]
    }
   ],
   "source": [
    "from sklearn.feature_extraction.text import TfidfVectorizer\n",
    "from sklearn.decomposition import NMF\n",
    "from sklearn.pipeline import make_pipeline\n",
    "\n",
    "tfidf_vectorizer = TfidfVectorizer(stop_words=stoplist, ngram_range=(2,3))\n",
    "nmf = NMF(n_components=5)\n",
    "pipe = make_pipeline(tfidf_vectorizer, nmf)\n",
    "pipe.fit(df['Text'])\n",
    "def print_top_words(model, feature_names, n_top_words):\n",
    "    for topic_idx, topic in enumerate(model.components_):\n",
    "        message = \"Topic #%d: \" % topic_idx\n",
    "        message += \", \".join([feature_names[i]\n",
    "                             for i in topic.argsort()[:-n_top_words - 1:-1]])\n",
    "        print(message)\n",
    "    print()\n",
    "print_top_words(nmf, tfidf_vectorizer.get_feature_names(), n_top_words=5)"
   ]
  },
  {
   "cell_type": "markdown",
   "id": "7d890d0a",
   "metadata": {},
   "source": [
    "# Other "
   ]
  },
  {
   "cell_type": "code",
   "execution_count": 86,
   "id": "d58e0bd1",
   "metadata": {},
   "outputs": [
    {
     "data": {
      "text/plain": [
       "[{'label': 'LABEL_0', 'score': 0.8163448572158813}]"
      ]
     },
     "execution_count": 86,
     "metadata": {},
     "output_type": "execute_result"
    }
   ],
   "source": [
    "# the pre-trained sentiment model can't categorize some tweets correctly. \n",
    "# For example, the model categorize \"bad ass\" as negative\n",
    "sentiment_pipeline(\"bad ass\")"
   ]
  }
 ],
 "metadata": {
  "kernelspec": {
   "display_name": "Python 3 (ipykernel)",
   "language": "python",
   "name": "python3"
  },
  "language_info": {
   "codemirror_mode": {
    "name": "ipython",
    "version": 3
   },
   "file_extension": ".py",
   "mimetype": "text/x-python",
   "name": "python",
   "nbconvert_exporter": "python",
   "pygments_lexer": "ipython3",
   "version": "3.9.12"
  }
 },
 "nbformat": 4,
 "nbformat_minor": 5
}
